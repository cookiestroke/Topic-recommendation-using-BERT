{
  "nbformat": 4,
  "nbformat_minor": 0,
  "metadata": {
    "kernelspec": {
      "display_name": "Python 3",
      "language": "python",
      "name": "python3"
    },
    "language_info": {
      "codemirror_mode": {
        "name": "ipython",
        "version": 3
      },
      "file_extension": ".py",
      "mimetype": "text/x-python",
      "name": "python",
      "nbconvert_exporter": "python",
      "pygments_lexer": "ipython3",
      "version": "3.7.7"
    },
    "colab": {
      "name": "Untitled2.ipynb",
      "provenance": []
    },
    "accelerator": "GPU"
  },
  "cells": [
    {
      "cell_type": "code",
      "metadata": {
        "id": "XNlIeAf3Kjln",
        "colab": {
          "base_uri": "https://localhost:8080/",
          "height": 129
        },
        "outputId": "363dec3c-af04-4db8-a744-b2e4c78bf1c9"
      },
      "source": [
        "from google.colab import drive\n",
        "drive.mount('/content/drive')"
      ],
      "execution_count": null,
      "outputs": [
        {
          "output_type": "stream",
          "text": [
            "Go to this URL in a browser: https://accounts.google.com/o/oauth2/auth?client_id=947318989803-6bn6qk8qdgf4n4g3pfee6491hc0brc4i.apps.googleusercontent.com&redirect_uri=urn%3aietf%3awg%3aoauth%3a2.0%3aoob&scope=email%20https%3a%2f%2fwww.googleapis.com%2fauth%2fdocs.test%20https%3a%2f%2fwww.googleapis.com%2fauth%2fdrive%20https%3a%2f%2fwww.googleapis.com%2fauth%2fdrive.photos.readonly%20https%3a%2f%2fwww.googleapis.com%2fauth%2fpeopleapi.readonly&response_type=code\n",
            "\n",
            "Enter your authorization code:\n",
            "··········\n",
            "Mounted at /content/drive\n"
          ],
          "name": "stdout"
        }
      ]
    },
    {
      "cell_type": "code",
      "metadata": {
        "id": "jHbwmEfX7uEF",
        "colab": {
          "base_uri": "https://localhost:8080/",
          "height": 556
        },
        "outputId": "9418293f-b2c8-4c89-a884-20313acec418"
      },
      "source": [
        "import pandas as pd\n",
        "import numpy as np\n",
        "import nltk\n",
        "from nltk.corpus import stopwords\n",
        "from nltk.tokenize import RegexpTokenizer\n",
        "from nltk.stem import WordNetLemmatizer\n",
        "from nltk.stem.porter import PorterStemmer\n",
        "import string\n",
        "\n",
        "df = pd.read_csv('/content/drive/My Drive/Final_stack.csv')\n",
        "df.head()"
      ],
      "execution_count": null,
      "outputs": [
        {
          "output_type": "execute_result",
          "data": {
            "text/html": [
              "<div>\n",
              "<style scoped>\n",
              "    .dataframe tbody tr th:only-of-type {\n",
              "        vertical-align: middle;\n",
              "    }\n",
              "\n",
              "    .dataframe tbody tr th {\n",
              "        vertical-align: top;\n",
              "    }\n",
              "\n",
              "    .dataframe thead th {\n",
              "        text-align: right;\n",
              "    }\n",
              "</style>\n",
              "<table border=\"1\" class=\"dataframe\">\n",
              "  <thead>\n",
              "    <tr style=\"text-align: right;\">\n",
              "      <th></th>\n",
              "      <th>Category</th>\n",
              "      <th>Topics</th>\n",
              "      <th>Content</th>\n",
              "      <th>Tag</th>\n",
              "      <th>Votes</th>\n",
              "      <th>Number_of_Answers</th>\n",
              "      <th>Date_posted</th>\n",
              "    </tr>\n",
              "  </thead>\n",
              "  <tbody>\n",
              "    <tr>\n",
              "      <th>0</th>\n",
              "      <td>sql</td>\n",
              "      <td>How can I prevent SQL injection in PHP?</td>\n",
              "      <td>\\n            If user input is inserted withou...</td>\n",
              "      <td>['php', 'mysql', 'sql', 'security', 'sql-injec...</td>\n",
              "      <td>2773</td>\n",
              "      <td>\\n28answers\\n</td>\n",
              "      <td>NaN</td>\n",
              "    </tr>\n",
              "    <tr>\n",
              "      <th>1</th>\n",
              "      <td>sql</td>\n",
              "      <td>When to use single quotes, double quotes, and ...</td>\n",
              "      <td>\\n            I am trying to learn the best wa...</td>\n",
              "      <td>['mysql', 'sql', 'quotes']</td>\n",
              "      <td>642</td>\n",
              "      <td>\\n12answers\\n</td>\n",
              "      <td>Jul 4 '12 at 1:53</td>\n",
              "    </tr>\n",
              "    <tr>\n",
              "      <th>2</th>\n",
              "      <td>sql</td>\n",
              "      <td>SQL injection that gets around mysql_real_esca...</td>\n",
              "      <td>\\n            Is there an SQL injection possib...</td>\n",
              "      <td>['php', 'mysql', 'sql', 'security', 'sql-injec...</td>\n",
              "      <td>654</td>\n",
              "      <td>\\n4answers\\n</td>\n",
              "      <td>Apr 21 '11 at 7:56</td>\n",
              "    </tr>\n",
              "    <tr>\n",
              "      <th>3</th>\n",
              "      <td>sql</td>\n",
              "      <td>SQL select only rows with max value on a colum...</td>\n",
              "      <td>\\n            I have this table for documents ...</td>\n",
              "      <td>['mysql', 'sql', 'aggregate-functions', 'great...</td>\n",
              "      <td>1256</td>\n",
              "      <td>\\n27answers\\n</td>\n",
              "      <td>Oct 12 '11 at 19:42</td>\n",
              "    </tr>\n",
              "    <tr>\n",
              "      <th>4</th>\n",
              "      <td>sql</td>\n",
              "      <td>Simulating group_concat MySQL function in Micr...</td>\n",
              "      <td>\\n            I'm trying to migrate a MySQL-ba...</td>\n",
              "      <td>['sql', 'sql-server', 'sql-server-2005', 'stri...</td>\n",
              "      <td>347</td>\n",
              "      <td>\\n10answers\\n</td>\n",
              "      <td>Jan 16 '09 at 18:14</td>\n",
              "    </tr>\n",
              "  </tbody>\n",
              "</table>\n",
              "</div>"
            ],
            "text/plain": [
              "  Category  ...          Date_posted\n",
              "0      sql  ...                  NaN\n",
              "1      sql  ...    Jul 4 '12 at 1:53\n",
              "2      sql  ...   Apr 21 '11 at 7:56\n",
              "3      sql  ...  Oct 12 '11 at 19:42\n",
              "4      sql  ...  Jan 16 '09 at 18:14\n",
              "\n",
              "[5 rows x 7 columns]"
            ]
          },
          "metadata": {
            "tags": []
          },
          "execution_count": 16
        }
      ]
    },
    {
      "cell_type": "code",
      "metadata": {
        "id": "sHDfoBTv7uEU",
        "colab": {
          "base_uri": "https://localhost:8080/",
          "height": 35
        },
        "outputId": "4efd259b-550f-4049-977c-d8f6556aea18"
      },
      "source": [
        "df.shape\n"
      ],
      "execution_count": null,
      "outputs": [
        {
          "output_type": "execute_result",
          "data": {
            "text/plain": [
              "(708865, 7)"
            ]
          },
          "metadata": {
            "tags": []
          },
          "execution_count": 3
        }
      ]
    },
    {
      "cell_type": "code",
      "metadata": {
        "id": "O5BoPXx07uEk",
        "colab": {
          "base_uri": "https://localhost:8080/",
          "height": 72
        },
        "outputId": "00ffe2aa-b42f-43a5-b1f3-08f814fa989a"
      },
      "source": [
        "df.columns"
      ],
      "execution_count": null,
      "outputs": [
        {
          "output_type": "execute_result",
          "data": {
            "text/plain": [
              "Index(['Category', 'Topics', 'Content', 'Tag', 'Votes', 'Number_of_Answers',\n",
              "       'Date_posted'],\n",
              "      dtype='object')"
            ]
          },
          "metadata": {
            "tags": []
          },
          "execution_count": 5
        }
      ]
    },
    {
      "cell_type": "code",
      "metadata": {
        "id": "jpTbeoux7uEu",
        "colab": {
          "base_uri": "https://localhost:8080/",
          "height": 35
        },
        "outputId": "d0493ef0-31f5-4860-b846-f0d237b94329"
      },
      "source": [
        "df.index"
      ],
      "execution_count": null,
      "outputs": [
        {
          "output_type": "execute_result",
          "data": {
            "text/plain": [
              "RangeIndex(start=0, stop=708865, step=1)"
            ]
          },
          "metadata": {
            "tags": []
          },
          "execution_count": 6
        }
      ]
    },
    {
      "cell_type": "code",
      "metadata": {
        "id": "dWR1wFaW7uE2",
        "colab": {
          "base_uri": "https://localhost:8080/",
          "height": 164
        },
        "outputId": "0b7d1ca3-f9f7-4803-c31a-9ad8c786a2c3"
      },
      "source": [
        "df.isnull().sum()"
      ],
      "execution_count": null,
      "outputs": [
        {
          "output_type": "execute_result",
          "data": {
            "text/plain": [
              "Category                 0\n",
              "Topics                   0\n",
              "Content                  0\n",
              "Tag                      0\n",
              "Votes                    0\n",
              "Number_of_Answers    99178\n",
              "Date_posted            920\n",
              "dtype: int64"
            ]
          },
          "metadata": {
            "tags": []
          },
          "execution_count": 4
        }
      ]
    },
    {
      "cell_type": "code",
      "metadata": {
        "id": "BNQD0STp7uE-",
        "colab": {
          "base_uri": "https://localhost:8080/",
          "height": 556
        },
        "outputId": "b01c8b02-fb0f-4d30-f8ad-d9b52de2dccd"
      },
      "source": [
        "# df = df.dropna(axis=0, subset=['Tag'])\n",
        "import numpy as np\n",
        "df = df.replace(np.nan, '', regex=True)\n",
        "df.head()"
      ],
      "execution_count": null,
      "outputs": [
        {
          "output_type": "execute_result",
          "data": {
            "text/html": [
              "<div>\n",
              "<style scoped>\n",
              "    .dataframe tbody tr th:only-of-type {\n",
              "        vertical-align: middle;\n",
              "    }\n",
              "\n",
              "    .dataframe tbody tr th {\n",
              "        vertical-align: top;\n",
              "    }\n",
              "\n",
              "    .dataframe thead th {\n",
              "        text-align: right;\n",
              "    }\n",
              "</style>\n",
              "<table border=\"1\" class=\"dataframe\">\n",
              "  <thead>\n",
              "    <tr style=\"text-align: right;\">\n",
              "      <th></th>\n",
              "      <th>Category</th>\n",
              "      <th>Topics</th>\n",
              "      <th>Content</th>\n",
              "      <th>Tag</th>\n",
              "      <th>Votes</th>\n",
              "      <th>Number_of_Answers</th>\n",
              "      <th>Date_posted</th>\n",
              "    </tr>\n",
              "  </thead>\n",
              "  <tbody>\n",
              "    <tr>\n",
              "      <th>0</th>\n",
              "      <td>sql</td>\n",
              "      <td>How can I prevent SQL injection in PHP?</td>\n",
              "      <td>\\n            If user input is inserted withou...</td>\n",
              "      <td>['php', 'mysql', 'sql', 'security', 'sql-injec...</td>\n",
              "      <td>2773</td>\n",
              "      <td>\\n28answers\\n</td>\n",
              "      <td></td>\n",
              "    </tr>\n",
              "    <tr>\n",
              "      <th>1</th>\n",
              "      <td>sql</td>\n",
              "      <td>When to use single quotes, double quotes, and ...</td>\n",
              "      <td>\\n            I am trying to learn the best wa...</td>\n",
              "      <td>['mysql', 'sql', 'quotes']</td>\n",
              "      <td>642</td>\n",
              "      <td>\\n12answers\\n</td>\n",
              "      <td>Jul 4 '12 at 1:53</td>\n",
              "    </tr>\n",
              "    <tr>\n",
              "      <th>2</th>\n",
              "      <td>sql</td>\n",
              "      <td>SQL injection that gets around mysql_real_esca...</td>\n",
              "      <td>\\n            Is there an SQL injection possib...</td>\n",
              "      <td>['php', 'mysql', 'sql', 'security', 'sql-injec...</td>\n",
              "      <td>654</td>\n",
              "      <td>\\n4answers\\n</td>\n",
              "      <td>Apr 21 '11 at 7:56</td>\n",
              "    </tr>\n",
              "    <tr>\n",
              "      <th>3</th>\n",
              "      <td>sql</td>\n",
              "      <td>SQL select only rows with max value on a colum...</td>\n",
              "      <td>\\n            I have this table for documents ...</td>\n",
              "      <td>['mysql', 'sql', 'aggregate-functions', 'great...</td>\n",
              "      <td>1256</td>\n",
              "      <td>\\n27answers\\n</td>\n",
              "      <td>Oct 12 '11 at 19:42</td>\n",
              "    </tr>\n",
              "    <tr>\n",
              "      <th>4</th>\n",
              "      <td>sql</td>\n",
              "      <td>Simulating group_concat MySQL function in Micr...</td>\n",
              "      <td>\\n            I'm trying to migrate a MySQL-ba...</td>\n",
              "      <td>['sql', 'sql-server', 'sql-server-2005', 'stri...</td>\n",
              "      <td>347</td>\n",
              "      <td>\\n10answers\\n</td>\n",
              "      <td>Jan 16 '09 at 18:14</td>\n",
              "    </tr>\n",
              "  </tbody>\n",
              "</table>\n",
              "</div>"
            ],
            "text/plain": [
              "  Category  ...          Date_posted\n",
              "0      sql  ...                     \n",
              "1      sql  ...    Jul 4 '12 at 1:53\n",
              "2      sql  ...   Apr 21 '11 at 7:56\n",
              "3      sql  ...  Oct 12 '11 at 19:42\n",
              "4      sql  ...  Jan 16 '09 at 18:14\n",
              "\n",
              "[5 rows x 7 columns]"
            ]
          },
          "metadata": {
            "tags": []
          },
          "execution_count": 17
        }
      ]
    },
    {
      "cell_type": "code",
      "metadata": {
        "id": "4fJ3atVWTN3U"
      },
      "source": [
        "df['Topics']=df['Topics'].str.replace(\"\\n\",\"\")\n",
        "df['Topics']=df['Topics'].str.replace(\"\\t\",\" \")\n",
        "df['Topics']=df['Topics'].str.strip(\" \")"
      ],
      "execution_count": null,
      "outputs": []
    },
    {
      "cell_type": "code",
      "metadata": {
        "id": "OewycJHq7uFH",
        "colab": {
          "base_uri": "https://localhost:8080/",
          "height": 556
        },
        "outputId": "5a25f8a1-d7d6-4c3f-d175-6fafb9c94b56"
      },
      "source": [
        "# Remove all the punctuations\n",
        "\n",
        "def remove_punct(text):\n",
        "    no_punct=\"\".join((c for c in text if c not in string.punctuation))\n",
        "    return no_punct\n",
        "\n",
        "df['text']=df['Topics'].apply(lambda x:remove_punct(x))\n",
        "# df['Post']=df['Post'].apply(lambda x:remove_punct(x))\n",
        "df.head()"
      ],
      "execution_count": null,
      "outputs": [
        {
          "output_type": "execute_result",
          "data": {
            "text/html": [
              "<div>\n",
              "<style scoped>\n",
              "    .dataframe tbody tr th:only-of-type {\n",
              "        vertical-align: middle;\n",
              "    }\n",
              "\n",
              "    .dataframe tbody tr th {\n",
              "        vertical-align: top;\n",
              "    }\n",
              "\n",
              "    .dataframe thead th {\n",
              "        text-align: right;\n",
              "    }\n",
              "</style>\n",
              "<table border=\"1\" class=\"dataframe\">\n",
              "  <thead>\n",
              "    <tr style=\"text-align: right;\">\n",
              "      <th></th>\n",
              "      <th>Category</th>\n",
              "      <th>Topics</th>\n",
              "      <th>Content</th>\n",
              "      <th>Tag</th>\n",
              "      <th>Votes</th>\n",
              "      <th>Number_of_Answers</th>\n",
              "      <th>Date_posted</th>\n",
              "      <th>text</th>\n",
              "    </tr>\n",
              "  </thead>\n",
              "  <tbody>\n",
              "    <tr>\n",
              "      <th>0</th>\n",
              "      <td>sql</td>\n",
              "      <td>How can I prevent SQL injection in PHP?</td>\n",
              "      <td>\\n            If user input is inserted withou...</td>\n",
              "      <td>['php', 'mysql', 'sql', 'security', 'sql-injec...</td>\n",
              "      <td>2773</td>\n",
              "      <td>\\n28answers\\n</td>\n",
              "      <td></td>\n",
              "      <td>How can I prevent SQL injection in PHP</td>\n",
              "    </tr>\n",
              "    <tr>\n",
              "      <th>1</th>\n",
              "      <td>sql</td>\n",
              "      <td>When to use single quotes, double quotes, and ...</td>\n",
              "      <td>\\n            I am trying to learn the best wa...</td>\n",
              "      <td>['mysql', 'sql', 'quotes']</td>\n",
              "      <td>642</td>\n",
              "      <td>\\n12answers\\n</td>\n",
              "      <td>Jul 4 '12 at 1:53</td>\n",
              "      <td>When to use single quotes double quotes and ba...</td>\n",
              "    </tr>\n",
              "    <tr>\n",
              "      <th>2</th>\n",
              "      <td>sql</td>\n",
              "      <td>SQL injection that gets around mysql_real_esca...</td>\n",
              "      <td>\\n            Is there an SQL injection possib...</td>\n",
              "      <td>['php', 'mysql', 'sql', 'security', 'sql-injec...</td>\n",
              "      <td>654</td>\n",
              "      <td>\\n4answers\\n</td>\n",
              "      <td>Apr 21 '11 at 7:56</td>\n",
              "      <td>SQL injection that gets around mysqlrealescape...</td>\n",
              "    </tr>\n",
              "    <tr>\n",
              "      <th>3</th>\n",
              "      <td>sql</td>\n",
              "      <td>SQL select only rows with max value on a colum...</td>\n",
              "      <td>\\n            I have this table for documents ...</td>\n",
              "      <td>['mysql', 'sql', 'aggregate-functions', 'great...</td>\n",
              "      <td>1256</td>\n",
              "      <td>\\n27answers\\n</td>\n",
              "      <td>Oct 12 '11 at 19:42</td>\n",
              "      <td>SQL select only rows with max value on a colum...</td>\n",
              "    </tr>\n",
              "    <tr>\n",
              "      <th>4</th>\n",
              "      <td>sql</td>\n",
              "      <td>Simulating group_concat MySQL function in Micr...</td>\n",
              "      <td>\\n            I'm trying to migrate a MySQL-ba...</td>\n",
              "      <td>['sql', 'sql-server', 'sql-server-2005', 'stri...</td>\n",
              "      <td>347</td>\n",
              "      <td>\\n10answers\\n</td>\n",
              "      <td>Jan 16 '09 at 18:14</td>\n",
              "      <td>Simulating groupconcat MySQL function in Micro...</td>\n",
              "    </tr>\n",
              "  </tbody>\n",
              "</table>\n",
              "</div>"
            ],
            "text/plain": [
              "  Category  ...                                               text\n",
              "0      sql  ...             How can I prevent SQL injection in PHP\n",
              "1      sql  ...  When to use single quotes double quotes and ba...\n",
              "2      sql  ...  SQL injection that gets around mysqlrealescape...\n",
              "3      sql  ...  SQL select only rows with max value on a colum...\n",
              "4      sql  ...  Simulating groupconcat MySQL function in Micro...\n",
              "\n",
              "[5 rows x 8 columns]"
            ]
          },
          "metadata": {
            "tags": []
          },
          "execution_count": 19
        }
      ]
    },
    {
      "cell_type": "code",
      "metadata": {
        "id": "MRRTMRTw87MR",
        "colab": {
          "base_uri": "https://localhost:8080/",
          "height": 556
        },
        "outputId": "770b99eb-47ca-4306-f031-fa9b0ac55442"
      },
      "source": [
        "df['text']=df['Topics'].str.lower()\n",
        "df.head()"
      ],
      "execution_count": null,
      "outputs": [
        {
          "output_type": "execute_result",
          "data": {
            "text/html": [
              "<div>\n",
              "<style scoped>\n",
              "    .dataframe tbody tr th:only-of-type {\n",
              "        vertical-align: middle;\n",
              "    }\n",
              "\n",
              "    .dataframe tbody tr th {\n",
              "        vertical-align: top;\n",
              "    }\n",
              "\n",
              "    .dataframe thead th {\n",
              "        text-align: right;\n",
              "    }\n",
              "</style>\n",
              "<table border=\"1\" class=\"dataframe\">\n",
              "  <thead>\n",
              "    <tr style=\"text-align: right;\">\n",
              "      <th></th>\n",
              "      <th>Category</th>\n",
              "      <th>Topics</th>\n",
              "      <th>Content</th>\n",
              "      <th>Tag</th>\n",
              "      <th>Votes</th>\n",
              "      <th>Number_of_Answers</th>\n",
              "      <th>Date_posted</th>\n",
              "      <th>text</th>\n",
              "    </tr>\n",
              "  </thead>\n",
              "  <tbody>\n",
              "    <tr>\n",
              "      <th>0</th>\n",
              "      <td>sql</td>\n",
              "      <td>How can I prevent SQL injection in PHP?</td>\n",
              "      <td>\\n            If user input is inserted withou...</td>\n",
              "      <td>['php', 'mysql', 'sql', 'security', 'sql-injec...</td>\n",
              "      <td>2773</td>\n",
              "      <td>\\n28answers\\n</td>\n",
              "      <td></td>\n",
              "      <td>how can i prevent sql injection in php?</td>\n",
              "    </tr>\n",
              "    <tr>\n",
              "      <th>1</th>\n",
              "      <td>sql</td>\n",
              "      <td>When to use single quotes, double quotes, and ...</td>\n",
              "      <td>\\n            I am trying to learn the best wa...</td>\n",
              "      <td>['mysql', 'sql', 'quotes']</td>\n",
              "      <td>642</td>\n",
              "      <td>\\n12answers\\n</td>\n",
              "      <td>Jul 4 '12 at 1:53</td>\n",
              "      <td>when to use single quotes, double quotes, and ...</td>\n",
              "    </tr>\n",
              "    <tr>\n",
              "      <th>2</th>\n",
              "      <td>sql</td>\n",
              "      <td>SQL injection that gets around mysql_real_esca...</td>\n",
              "      <td>\\n            Is there an SQL injection possib...</td>\n",
              "      <td>['php', 'mysql', 'sql', 'security', 'sql-injec...</td>\n",
              "      <td>654</td>\n",
              "      <td>\\n4answers\\n</td>\n",
              "      <td>Apr 21 '11 at 7:56</td>\n",
              "      <td>sql injection that gets around mysql_real_esca...</td>\n",
              "    </tr>\n",
              "    <tr>\n",
              "      <th>3</th>\n",
              "      <td>sql</td>\n",
              "      <td>SQL select only rows with max value on a colum...</td>\n",
              "      <td>\\n            I have this table for documents ...</td>\n",
              "      <td>['mysql', 'sql', 'aggregate-functions', 'great...</td>\n",
              "      <td>1256</td>\n",
              "      <td>\\n27answers\\n</td>\n",
              "      <td>Oct 12 '11 at 19:42</td>\n",
              "      <td>sql select only rows with max value on a colum...</td>\n",
              "    </tr>\n",
              "    <tr>\n",
              "      <th>4</th>\n",
              "      <td>sql</td>\n",
              "      <td>Simulating group_concat MySQL function in Micr...</td>\n",
              "      <td>\\n            I'm trying to migrate a MySQL-ba...</td>\n",
              "      <td>['sql', 'sql-server', 'sql-server-2005', 'stri...</td>\n",
              "      <td>347</td>\n",
              "      <td>\\n10answers\\n</td>\n",
              "      <td>Jan 16 '09 at 18:14</td>\n",
              "      <td>simulating group_concat mysql function in micr...</td>\n",
              "    </tr>\n",
              "  </tbody>\n",
              "</table>\n",
              "</div>"
            ],
            "text/plain": [
              "  Category  ...                                               text\n",
              "0      sql  ...            how can i prevent sql injection in php?\n",
              "1      sql  ...  when to use single quotes, double quotes, and ...\n",
              "2      sql  ...  sql injection that gets around mysql_real_esca...\n",
              "3      sql  ...  sql select only rows with max value on a colum...\n",
              "4      sql  ...  simulating group_concat mysql function in micr...\n",
              "\n",
              "[5 rows x 8 columns]"
            ]
          },
          "metadata": {
            "tags": []
          },
          "execution_count": 20
        }
      ]
    },
    {
      "cell_type": "code",
      "metadata": {
        "id": "pPFk1_2u7uFN",
        "colab": {
          "base_uri": "https://localhost:8080/",
          "height": 574
        },
        "outputId": "1b4be024-cbfb-418d-ff72-0ed87a0fbd82"
      },
      "source": [
        "#Replace string with regular expressions\n",
        "\n",
        "tokenizer=RegexpTokenizer(r'\\w+')\n",
        "\n",
        "df['text']=df['text'].apply(lambda x:tokenizer.tokenize(x.lower()))\n",
        "# df['Post']=df['Post'].apply(lambda x:tokenizer.tokenize(x.lower()))\n",
        "df.head()"
      ],
      "execution_count": null,
      "outputs": [
        {
          "output_type": "execute_result",
          "data": {
            "text/html": [
              "<div>\n",
              "<style scoped>\n",
              "    .dataframe tbody tr th:only-of-type {\n",
              "        vertical-align: middle;\n",
              "    }\n",
              "\n",
              "    .dataframe tbody tr th {\n",
              "        vertical-align: top;\n",
              "    }\n",
              "\n",
              "    .dataframe thead th {\n",
              "        text-align: right;\n",
              "    }\n",
              "</style>\n",
              "<table border=\"1\" class=\"dataframe\">\n",
              "  <thead>\n",
              "    <tr style=\"text-align: right;\">\n",
              "      <th></th>\n",
              "      <th>Category</th>\n",
              "      <th>Topics</th>\n",
              "      <th>Content</th>\n",
              "      <th>Tag</th>\n",
              "      <th>Votes</th>\n",
              "      <th>Number_of_Answers</th>\n",
              "      <th>Date_posted</th>\n",
              "      <th>text</th>\n",
              "    </tr>\n",
              "  </thead>\n",
              "  <tbody>\n",
              "    <tr>\n",
              "      <th>0</th>\n",
              "      <td>sql</td>\n",
              "      <td>How can I prevent SQL injection in PHP?</td>\n",
              "      <td>\\n            If user input is inserted withou...</td>\n",
              "      <td>['php', 'mysql', 'sql', 'security', 'sql-injec...</td>\n",
              "      <td>2773</td>\n",
              "      <td>\\n28answers\\n</td>\n",
              "      <td></td>\n",
              "      <td>[how, can, i, prevent, sql, injection, in, php]</td>\n",
              "    </tr>\n",
              "    <tr>\n",
              "      <th>1</th>\n",
              "      <td>sql</td>\n",
              "      <td>When to use single quotes, double quotes, and ...</td>\n",
              "      <td>\\n            I am trying to learn the best wa...</td>\n",
              "      <td>['mysql', 'sql', 'quotes']</td>\n",
              "      <td>642</td>\n",
              "      <td>\\n12answers\\n</td>\n",
              "      <td>Jul 4 '12 at 1:53</td>\n",
              "      <td>[when, to, use, single, quotes, double, quotes...</td>\n",
              "    </tr>\n",
              "    <tr>\n",
              "      <th>2</th>\n",
              "      <td>sql</td>\n",
              "      <td>SQL injection that gets around mysql_real_esca...</td>\n",
              "      <td>\\n            Is there an SQL injection possib...</td>\n",
              "      <td>['php', 'mysql', 'sql', 'security', 'sql-injec...</td>\n",
              "      <td>654</td>\n",
              "      <td>\\n4answers\\n</td>\n",
              "      <td>Apr 21 '11 at 7:56</td>\n",
              "      <td>[sql, injection, that, gets, around, mysql_rea...</td>\n",
              "    </tr>\n",
              "    <tr>\n",
              "      <th>3</th>\n",
              "      <td>sql</td>\n",
              "      <td>SQL select only rows with max value on a colum...</td>\n",
              "      <td>\\n            I have this table for documents ...</td>\n",
              "      <td>['mysql', 'sql', 'aggregate-functions', 'great...</td>\n",
              "      <td>1256</td>\n",
              "      <td>\\n27answers\\n</td>\n",
              "      <td>Oct 12 '11 at 19:42</td>\n",
              "      <td>[sql, select, only, rows, with, max, value, on...</td>\n",
              "    </tr>\n",
              "    <tr>\n",
              "      <th>4</th>\n",
              "      <td>sql</td>\n",
              "      <td>Simulating group_concat MySQL function in Micr...</td>\n",
              "      <td>\\n            I'm trying to migrate a MySQL-ba...</td>\n",
              "      <td>['sql', 'sql-server', 'sql-server-2005', 'stri...</td>\n",
              "      <td>347</td>\n",
              "      <td>\\n10answers\\n</td>\n",
              "      <td>Jan 16 '09 at 18:14</td>\n",
              "      <td>[simulating, group_concat, mysql, function, in...</td>\n",
              "    </tr>\n",
              "  </tbody>\n",
              "</table>\n",
              "</div>"
            ],
            "text/plain": [
              "  Category  ...                                               text\n",
              "0      sql  ...    [how, can, i, prevent, sql, injection, in, php]\n",
              "1      sql  ...  [when, to, use, single, quotes, double, quotes...\n",
              "2      sql  ...  [sql, injection, that, gets, around, mysql_rea...\n",
              "3      sql  ...  [sql, select, only, rows, with, max, value, on...\n",
              "4      sql  ...  [simulating, group_concat, mysql, function, in...\n",
              "\n",
              "[5 rows x 8 columns]"
            ]
          },
          "metadata": {
            "tags": []
          },
          "execution_count": 21
        }
      ]
    },
    {
      "cell_type": "code",
      "metadata": {
        "id": "hFSgdE-o7uFS",
        "colab": {
          "base_uri": "https://localhost:8080/",
          "height": 330
        },
        "outputId": "dccd799c-5a6d-486a-9542-c90eefba18e9"
      },
      "source": [
        "# Remove common stop words\n",
        "import nltk\n",
        "nltk.download('stopwords')\n",
        "def remove_stop(text):\n",
        "    w=[]\n",
        "    for c in text:\n",
        "        if c not in stopwords.words('english'):\n",
        "            w.append(c)\n",
        "    return w\n",
        "\n",
        "df['text']=df['text'].apply(lambda x:remove_stop(x))\n",
        "# df['Post']=df['Post'].apply(lambda x:remove_stop(x))\n",
        "df.head()"
      ],
      "execution_count": null,
      "outputs": [
        {
          "output_type": "stream",
          "text": [
            "[nltk_data] Downloading package stopwords to /root/nltk_data...\n",
            "[nltk_data]   Unzipping corpora/stopwords.zip.\n"
          ],
          "name": "stdout"
        },
        {
          "output_type": "execute_result",
          "data": {
            "text/html": [
              "<div>\n",
              "<style scoped>\n",
              "    .dataframe tbody tr th:only-of-type {\n",
              "        vertical-align: middle;\n",
              "    }\n",
              "\n",
              "    .dataframe tbody tr th {\n",
              "        vertical-align: top;\n",
              "    }\n",
              "\n",
              "    .dataframe thead th {\n",
              "        text-align: right;\n",
              "    }\n",
              "</style>\n",
              "<table border=\"1\" class=\"dataframe\">\n",
              "  <thead>\n",
              "    <tr style=\"text-align: right;\">\n",
              "      <th></th>\n",
              "      <th>Category</th>\n",
              "      <th>Topics</th>\n",
              "      <th>Content</th>\n",
              "      <th>Tag</th>\n",
              "      <th>Votes</th>\n",
              "      <th>Number_of_Answers</th>\n",
              "      <th>Date_posted</th>\n",
              "      <th>text</th>\n",
              "    </tr>\n",
              "  </thead>\n",
              "  <tbody>\n",
              "    <tr>\n",
              "      <th>0</th>\n",
              "      <td>sql</td>\n",
              "      <td>How can I prevent SQL injection in PHP?</td>\n",
              "      <td>\\n            If user input is inserted withou...</td>\n",
              "      <td>['php', 'mysql', 'sql', 'security', 'sql-injec...</td>\n",
              "      <td>2773</td>\n",
              "      <td>\\n28answers\\n</td>\n",
              "      <td></td>\n",
              "      <td>[prevent, sql, injection, php]</td>\n",
              "    </tr>\n",
              "    <tr>\n",
              "      <th>1</th>\n",
              "      <td>sql</td>\n",
              "      <td>When to use single quotes, double quotes, and ...</td>\n",
              "      <td>\\n            I am trying to learn the best wa...</td>\n",
              "      <td>['mysql', 'sql', 'quotes']</td>\n",
              "      <td>642</td>\n",
              "      <td>\\n12answers\\n</td>\n",
              "      <td>Jul 4 '12 at 1:53</td>\n",
              "      <td>[use, single, quotes, double, quotes, backtick...</td>\n",
              "    </tr>\n",
              "    <tr>\n",
              "      <th>2</th>\n",
              "      <td>sql</td>\n",
              "      <td>SQL injection that gets around mysql_real_esca...</td>\n",
              "      <td>\\n            Is there an SQL injection possib...</td>\n",
              "      <td>['php', 'mysql', 'sql', 'security', 'sql-injec...</td>\n",
              "      <td>654</td>\n",
              "      <td>\\n4answers\\n</td>\n",
              "      <td>Apr 21 '11 at 7:56</td>\n",
              "      <td>[sql, injection, gets, around, mysqlrealescape...</td>\n",
              "    </tr>\n",
              "    <tr>\n",
              "      <th>3</th>\n",
              "      <td>sql</td>\n",
              "      <td>SQL select only rows with max value on a colum...</td>\n",
              "      <td>\\n            I have this table for documents ...</td>\n",
              "      <td>['mysql', 'sql', 'aggregate-functions', 'great...</td>\n",
              "      <td>1256</td>\n",
              "      <td>\\n27answers\\n</td>\n",
              "      <td>Oct 12 '11 at 19:42</td>\n",
              "      <td>[sql, select, rows, max, value, column, duplic...</td>\n",
              "    </tr>\n",
              "    <tr>\n",
              "      <th>4</th>\n",
              "      <td>sql</td>\n",
              "      <td>Simulating group_concat MySQL function in Micr...</td>\n",
              "      <td>\\n            I'm trying to migrate a MySQL-ba...</td>\n",
              "      <td>['sql', 'sql-server', 'sql-server-2005', 'stri...</td>\n",
              "      <td>347</td>\n",
              "      <td>\\n10answers\\n</td>\n",
              "      <td>Jan 16 '09 at 18:14</td>\n",
              "      <td>[simulating, groupconcat, mysql, function, mic...</td>\n",
              "    </tr>\n",
              "  </tbody>\n",
              "</table>\n",
              "</div>"
            ],
            "text/plain": [
              "  Category  ...                                               text\n",
              "0      sql  ...                     [prevent, sql, injection, php]\n",
              "1      sql  ...  [use, single, quotes, double, quotes, backtick...\n",
              "2      sql  ...  [sql, injection, gets, around, mysqlrealescape...\n",
              "3      sql  ...  [sql, select, rows, max, value, column, duplic...\n",
              "4      sql  ...  [simulating, groupconcat, mysql, function, mic...\n",
              "\n",
              "[5 rows x 8 columns]"
            ]
          },
          "metadata": {
            "tags": []
          },
          "execution_count": 8
        }
      ]
    },
    {
      "cell_type": "code",
      "metadata": {
        "id": "NrvTR-cJ7uFa",
        "colab": {
          "base_uri": "https://localhost:8080/",
          "height": 330
        },
        "outputId": "c2e8b08c-209c-4cf0-b50f-8c5ddd828155"
      },
      "source": [
        "# Convert words to base form\n",
        "nltk.download('wordnet')\n",
        "lemmatizer=WordNetLemmatizer()\n",
        "\n",
        "def word_lem(text):\n",
        "    lem_text=[lemmatizer.lemmatize(i) for i in text]\n",
        "    return lem_text\n",
        "\n",
        "df['text']=df['text'].apply(lambda x:word_lem(x))\n",
        "# df['Post']=df['Post'].apply(lambda x:word_lem(x))\n",
        "df.head()"
      ],
      "execution_count": null,
      "outputs": [
        {
          "output_type": "stream",
          "text": [
            "[nltk_data] Downloading package wordnet to /root/nltk_data...\n",
            "[nltk_data]   Unzipping corpora/wordnet.zip.\n"
          ],
          "name": "stdout"
        },
        {
          "output_type": "execute_result",
          "data": {
            "text/html": [
              "<div>\n",
              "<style scoped>\n",
              "    .dataframe tbody tr th:only-of-type {\n",
              "        vertical-align: middle;\n",
              "    }\n",
              "\n",
              "    .dataframe tbody tr th {\n",
              "        vertical-align: top;\n",
              "    }\n",
              "\n",
              "    .dataframe thead th {\n",
              "        text-align: right;\n",
              "    }\n",
              "</style>\n",
              "<table border=\"1\" class=\"dataframe\">\n",
              "  <thead>\n",
              "    <tr style=\"text-align: right;\">\n",
              "      <th></th>\n",
              "      <th>Category</th>\n",
              "      <th>Topics</th>\n",
              "      <th>Content</th>\n",
              "      <th>Tag</th>\n",
              "      <th>Votes</th>\n",
              "      <th>Number_of_Answers</th>\n",
              "      <th>Date_posted</th>\n",
              "      <th>text</th>\n",
              "    </tr>\n",
              "  </thead>\n",
              "  <tbody>\n",
              "    <tr>\n",
              "      <th>0</th>\n",
              "      <td>sql</td>\n",
              "      <td>How can I prevent SQL injection in PHP?</td>\n",
              "      <td>\\n            If user input is inserted withou...</td>\n",
              "      <td>['php', 'mysql', 'sql', 'security', 'sql-injec...</td>\n",
              "      <td>2773</td>\n",
              "      <td>\\n28answers\\n</td>\n",
              "      <td></td>\n",
              "      <td>[prevent, sql, injection, php]</td>\n",
              "    </tr>\n",
              "    <tr>\n",
              "      <th>1</th>\n",
              "      <td>sql</td>\n",
              "      <td>When to use single quotes, double quotes, and ...</td>\n",
              "      <td>\\n            I am trying to learn the best wa...</td>\n",
              "      <td>['mysql', 'sql', 'quotes']</td>\n",
              "      <td>642</td>\n",
              "      <td>\\n12answers\\n</td>\n",
              "      <td>Jul 4 '12 at 1:53</td>\n",
              "      <td>[use, single, quote, double, quote, backticks,...</td>\n",
              "    </tr>\n",
              "    <tr>\n",
              "      <th>2</th>\n",
              "      <td>sql</td>\n",
              "      <td>SQL injection that gets around mysql_real_esca...</td>\n",
              "      <td>\\n            Is there an SQL injection possib...</td>\n",
              "      <td>['php', 'mysql', 'sql', 'security', 'sql-injec...</td>\n",
              "      <td>654</td>\n",
              "      <td>\\n4answers\\n</td>\n",
              "      <td>Apr 21 '11 at 7:56</td>\n",
              "      <td>[sql, injection, get, around, mysqlrealescapes...</td>\n",
              "    </tr>\n",
              "    <tr>\n",
              "      <th>3</th>\n",
              "      <td>sql</td>\n",
              "      <td>SQL select only rows with max value on a colum...</td>\n",
              "      <td>\\n            I have this table for documents ...</td>\n",
              "      <td>['mysql', 'sql', 'aggregate-functions', 'great...</td>\n",
              "      <td>1256</td>\n",
              "      <td>\\n27answers\\n</td>\n",
              "      <td>Oct 12 '11 at 19:42</td>\n",
              "      <td>[sql, select, row, max, value, column, duplicate]</td>\n",
              "    </tr>\n",
              "    <tr>\n",
              "      <th>4</th>\n",
              "      <td>sql</td>\n",
              "      <td>Simulating group_concat MySQL function in Micr...</td>\n",
              "      <td>\\n            I'm trying to migrate a MySQL-ba...</td>\n",
              "      <td>['sql', 'sql-server', 'sql-server-2005', 'stri...</td>\n",
              "      <td>347</td>\n",
              "      <td>\\n10answers\\n</td>\n",
              "      <td>Jan 16 '09 at 18:14</td>\n",
              "      <td>[simulating, groupconcat, mysql, function, mic...</td>\n",
              "    </tr>\n",
              "  </tbody>\n",
              "</table>\n",
              "</div>"
            ],
            "text/plain": [
              "  Category  ...                                               text\n",
              "0      sql  ...                     [prevent, sql, injection, php]\n",
              "1      sql  ...  [use, single, quote, double, quote, backticks,...\n",
              "2      sql  ...  [sql, injection, get, around, mysqlrealescapes...\n",
              "3      sql  ...  [sql, select, row, max, value, column, duplicate]\n",
              "4      sql  ...  [simulating, groupconcat, mysql, function, mic...\n",
              "\n",
              "[5 rows x 8 columns]"
            ]
          },
          "metadata": {
            "tags": []
          },
          "execution_count": 9
        }
      ]
    },
    {
      "cell_type": "code",
      "metadata": {
        "id": "t8JQU9cB7uFh",
        "colab": {
          "base_uri": "https://localhost:8080/",
          "height": 293
        },
        "outputId": "ac3c1fb0-ed5c-405b-ed88-99ee883644d6"
      },
      "source": [
        "# Convert words to base stem\n",
        "\n",
        "stemmer=PorterStemmer()\n",
        "\n",
        "def word_stemmer(text):\n",
        "    stext=\" \".join([stemmer.stem(i) for i in text])\n",
        "    return stext\n",
        "\n",
        "df['text']=df['text'].apply(lambda x:word_stemmer(x))\n",
        "# df['Post']=df['Post'].apply(lambda x:word_stemmer(x))\n",
        "df.head()"
      ],
      "execution_count": null,
      "outputs": [
        {
          "output_type": "execute_result",
          "data": {
            "text/html": [
              "<div>\n",
              "<style scoped>\n",
              "    .dataframe tbody tr th:only-of-type {\n",
              "        vertical-align: middle;\n",
              "    }\n",
              "\n",
              "    .dataframe tbody tr th {\n",
              "        vertical-align: top;\n",
              "    }\n",
              "\n",
              "    .dataframe thead th {\n",
              "        text-align: right;\n",
              "    }\n",
              "</style>\n",
              "<table border=\"1\" class=\"dataframe\">\n",
              "  <thead>\n",
              "    <tr style=\"text-align: right;\">\n",
              "      <th></th>\n",
              "      <th>Category</th>\n",
              "      <th>Topics</th>\n",
              "      <th>Content</th>\n",
              "      <th>Tag</th>\n",
              "      <th>Votes</th>\n",
              "      <th>Number_of_Answers</th>\n",
              "      <th>Date_posted</th>\n",
              "      <th>text</th>\n",
              "    </tr>\n",
              "  </thead>\n",
              "  <tbody>\n",
              "    <tr>\n",
              "      <th>0</th>\n",
              "      <td>sql</td>\n",
              "      <td>How can I prevent SQL injection in PHP?</td>\n",
              "      <td>\\n            If user input is inserted withou...</td>\n",
              "      <td>['php', 'mysql', 'sql', 'security', 'sql-injec...</td>\n",
              "      <td>2773</td>\n",
              "      <td>\\n28answers\\n</td>\n",
              "      <td></td>\n",
              "      <td>prevent sql inject php</td>\n",
              "    </tr>\n",
              "    <tr>\n",
              "      <th>1</th>\n",
              "      <td>sql</td>\n",
              "      <td>When to use single quotes, double quotes, and ...</td>\n",
              "      <td>\\n            I am trying to learn the best wa...</td>\n",
              "      <td>['mysql', 'sql', 'quotes']</td>\n",
              "      <td>642</td>\n",
              "      <td>\\n12answers\\n</td>\n",
              "      <td>Jul 4 '12 at 1:53</td>\n",
              "      <td>use singl quot doubl quot backtick mysql</td>\n",
              "    </tr>\n",
              "    <tr>\n",
              "      <th>2</th>\n",
              "      <td>sql</td>\n",
              "      <td>SQL injection that gets around mysql_real_esca...</td>\n",
              "      <td>\\n            Is there an SQL injection possib...</td>\n",
              "      <td>['php', 'mysql', 'sql', 'security', 'sql-injec...</td>\n",
              "      <td>654</td>\n",
              "      <td>\\n4answers\\n</td>\n",
              "      <td>Apr 21 '11 at 7:56</td>\n",
              "      <td>sql inject get around mysqlrealescapestr</td>\n",
              "    </tr>\n",
              "    <tr>\n",
              "      <th>3</th>\n",
              "      <td>sql</td>\n",
              "      <td>SQL select only rows with max value on a colum...</td>\n",
              "      <td>\\n            I have this table for documents ...</td>\n",
              "      <td>['mysql', 'sql', 'aggregate-functions', 'great...</td>\n",
              "      <td>1256</td>\n",
              "      <td>\\n27answers\\n</td>\n",
              "      <td>Oct 12 '11 at 19:42</td>\n",
              "      <td>sql select row max valu column duplic</td>\n",
              "    </tr>\n",
              "    <tr>\n",
              "      <th>4</th>\n",
              "      <td>sql</td>\n",
              "      <td>Simulating group_concat MySQL function in Micr...</td>\n",
              "      <td>\\n            I'm trying to migrate a MySQL-ba...</td>\n",
              "      <td>['sql', 'sql-server', 'sql-server-2005', 'stri...</td>\n",
              "      <td>347</td>\n",
              "      <td>\\n10answers\\n</td>\n",
              "      <td>Jan 16 '09 at 18:14</td>\n",
              "      <td>simul groupconcat mysql function microsoft sql...</td>\n",
              "    </tr>\n",
              "  </tbody>\n",
              "</table>\n",
              "</div>"
            ],
            "text/plain": [
              "  Category  ...                                               text\n",
              "0      sql  ...                             prevent sql inject php\n",
              "1      sql  ...           use singl quot doubl quot backtick mysql\n",
              "2      sql  ...           sql inject get around mysqlrealescapestr\n",
              "3      sql  ...              sql select row max valu column duplic\n",
              "4      sql  ...  simul groupconcat mysql function microsoft sql...\n",
              "\n",
              "[5 rows x 8 columns]"
            ]
          },
          "metadata": {
            "tags": []
          },
          "execution_count": 10
        }
      ]
    },
    {
      "cell_type": "code",
      "metadata": {
        "id": "74WzriUVUOE0",
        "colab": {
          "base_uri": "https://localhost:8080/",
          "height": 556
        },
        "outputId": "edf4ab8c-c3e3-44c5-e2d1-a0491c60d3f5"
      },
      "source": [
        "def joiner(text):\n",
        "    stext=\" \".join([i for i in text])\n",
        "    return stext\n",
        "\n",
        "df['text']=df['text'].apply(lambda x:joiner(x))\n",
        "df.head()"
      ],
      "execution_count": null,
      "outputs": [
        {
          "output_type": "execute_result",
          "data": {
            "text/html": [
              "<div>\n",
              "<style scoped>\n",
              "    .dataframe tbody tr th:only-of-type {\n",
              "        vertical-align: middle;\n",
              "    }\n",
              "\n",
              "    .dataframe tbody tr th {\n",
              "        vertical-align: top;\n",
              "    }\n",
              "\n",
              "    .dataframe thead th {\n",
              "        text-align: right;\n",
              "    }\n",
              "</style>\n",
              "<table border=\"1\" class=\"dataframe\">\n",
              "  <thead>\n",
              "    <tr style=\"text-align: right;\">\n",
              "      <th></th>\n",
              "      <th>Category</th>\n",
              "      <th>Topics</th>\n",
              "      <th>Content</th>\n",
              "      <th>Tag</th>\n",
              "      <th>Votes</th>\n",
              "      <th>Number_of_Answers</th>\n",
              "      <th>Date_posted</th>\n",
              "      <th>text</th>\n",
              "    </tr>\n",
              "  </thead>\n",
              "  <tbody>\n",
              "    <tr>\n",
              "      <th>0</th>\n",
              "      <td>sql</td>\n",
              "      <td>How can I prevent SQL injection in PHP?</td>\n",
              "      <td>\\n            If user input is inserted withou...</td>\n",
              "      <td>['php', 'mysql', 'sql', 'security', 'sql-injec...</td>\n",
              "      <td>2773</td>\n",
              "      <td>\\n28answers\\n</td>\n",
              "      <td></td>\n",
              "      <td>how can i prevent sql injection in php</td>\n",
              "    </tr>\n",
              "    <tr>\n",
              "      <th>1</th>\n",
              "      <td>sql</td>\n",
              "      <td>When to use single quotes, double quotes, and ...</td>\n",
              "      <td>\\n            I am trying to learn the best wa...</td>\n",
              "      <td>['mysql', 'sql', 'quotes']</td>\n",
              "      <td>642</td>\n",
              "      <td>\\n12answers\\n</td>\n",
              "      <td>Jul 4 '12 at 1:53</td>\n",
              "      <td>when to use single quotes double quotes and ba...</td>\n",
              "    </tr>\n",
              "    <tr>\n",
              "      <th>2</th>\n",
              "      <td>sql</td>\n",
              "      <td>SQL injection that gets around mysql_real_esca...</td>\n",
              "      <td>\\n            Is there an SQL injection possib...</td>\n",
              "      <td>['php', 'mysql', 'sql', 'security', 'sql-injec...</td>\n",
              "      <td>654</td>\n",
              "      <td>\\n4answers\\n</td>\n",
              "      <td>Apr 21 '11 at 7:56</td>\n",
              "      <td>sql injection that gets around mysql_real_esca...</td>\n",
              "    </tr>\n",
              "    <tr>\n",
              "      <th>3</th>\n",
              "      <td>sql</td>\n",
              "      <td>SQL select only rows with max value on a colum...</td>\n",
              "      <td>\\n            I have this table for documents ...</td>\n",
              "      <td>['mysql', 'sql', 'aggregate-functions', 'great...</td>\n",
              "      <td>1256</td>\n",
              "      <td>\\n27answers\\n</td>\n",
              "      <td>Oct 12 '11 at 19:42</td>\n",
              "      <td>sql select only rows with max value on a colum...</td>\n",
              "    </tr>\n",
              "    <tr>\n",
              "      <th>4</th>\n",
              "      <td>sql</td>\n",
              "      <td>Simulating group_concat MySQL function in Micr...</td>\n",
              "      <td>\\n            I'm trying to migrate a MySQL-ba...</td>\n",
              "      <td>['sql', 'sql-server', 'sql-server-2005', 'stri...</td>\n",
              "      <td>347</td>\n",
              "      <td>\\n10answers\\n</td>\n",
              "      <td>Jan 16 '09 at 18:14</td>\n",
              "      <td>simulating group_concat mysql function in micr...</td>\n",
              "    </tr>\n",
              "  </tbody>\n",
              "</table>\n",
              "</div>"
            ],
            "text/plain": [
              "  Category  ...                                               text\n",
              "0      sql  ...             how can i prevent sql injection in php\n",
              "1      sql  ...  when to use single quotes double quotes and ba...\n",
              "2      sql  ...  sql injection that gets around mysql_real_esca...\n",
              "3      sql  ...  sql select only rows with max value on a colum...\n",
              "4      sql  ...  simulating group_concat mysql function in micr...\n",
              "\n",
              "[5 rows x 8 columns]"
            ]
          },
          "metadata": {
            "tags": []
          },
          "execution_count": 22
        }
      ]
    },
    {
      "cell_type": "code",
      "metadata": {
        "id": "rXi9ciKe7uFq"
      },
      "source": [
        "# Export output\n",
        "\n",
        "df.to_csv('versa.csv', index=False)"
      ],
      "execution_count": null,
      "outputs": []
    },
    {
      "cell_type": "code",
      "metadata": {
        "id": "zzexePDp7uFv"
      },
      "source": [
        "# df['text']=row['Title']+' '+row['Post']\n",
        "    \n",
        "#     print(row['word_list'])\n",
        "# df['word_list'] = df['word_list'].str.strip().str.replace('   ', ' ').str.replace('  ', ' ')\n",
        "# df=df[['Category','Tag','Votes','word_list']]\n",
        "\n",
        "# df.head()"
      ],
      "execution_count": null,
      "outputs": []
    },
    {
      "cell_type": "code",
      "metadata": {
        "id": "Sr6IhYhK7uF4",
        "colab": {
          "base_uri": "https://localhost:8080/",
          "height": 257
        },
        "outputId": "8010a3a8-8d5b-42a3-b2e6-3fcdd7159489"
      },
      "source": [
        "# df=df[[\"Title\",\"Post\",\"Categories\",\"Tags\"]]\n",
        "# df['text']=df['Title']+df['Post']\n",
        "# df=df[[\"Topics\",\"text\",\"Tags\"]]\n",
        "df=df[[\"Topics\",\"text\",\"Category\",\"Tag\"]]\n",
        "df['Category']=df['Category'].apply(lambda x:tokenizer.tokenize(x.lower()))\n",
        "df['Category']=df['Category'].apply(lambda x:joiner(x))"
      ],
      "execution_count": null,
      "outputs": [
        {
          "output_type": "stream",
          "text": [
            "/usr/local/lib/python3.6/dist-packages/ipykernel_launcher.py:5: SettingWithCopyWarning: \n",
            "A value is trying to be set on a copy of a slice from a DataFrame.\n",
            "Try using .loc[row_indexer,col_indexer] = value instead\n",
            "\n",
            "See the caveats in the documentation: https://pandas.pydata.org/pandas-docs/stable/user_guide/indexing.html#returning-a-view-versus-a-copy\n",
            "  \"\"\"\n",
            "/usr/local/lib/python3.6/dist-packages/ipykernel_launcher.py:6: SettingWithCopyWarning: \n",
            "A value is trying to be set on a copy of a slice from a DataFrame.\n",
            "Try using .loc[row_indexer,col_indexer] = value instead\n",
            "\n",
            "See the caveats in the documentation: https://pandas.pydata.org/pandas-docs/stable/user_guide/indexing.html#returning-a-view-versus-a-copy\n",
            "  \n"
          ],
          "name": "stderr"
        }
      ]
    },
    {
      "cell_type": "code",
      "metadata": {
        "id": "eUJG3nIX7uF9",
        "colab": {
          "base_uri": "https://localhost:8080/",
          "height": 310
        },
        "outputId": "6a263b1a-fd31-44ce-918f-895c35265f89"
      },
      "source": [
        "df.head()"
      ],
      "execution_count": null,
      "outputs": [
        {
          "output_type": "execute_result",
          "data": {
            "text/html": [
              "<div>\n",
              "<style scoped>\n",
              "    .dataframe tbody tr th:only-of-type {\n",
              "        vertical-align: middle;\n",
              "    }\n",
              "\n",
              "    .dataframe tbody tr th {\n",
              "        vertical-align: top;\n",
              "    }\n",
              "\n",
              "    .dataframe thead th {\n",
              "        text-align: right;\n",
              "    }\n",
              "</style>\n",
              "<table border=\"1\" class=\"dataframe\">\n",
              "  <thead>\n",
              "    <tr style=\"text-align: right;\">\n",
              "      <th></th>\n",
              "      <th>Topics</th>\n",
              "      <th>text</th>\n",
              "      <th>Category</th>\n",
              "      <th>Tag</th>\n",
              "    </tr>\n",
              "  </thead>\n",
              "  <tbody>\n",
              "    <tr>\n",
              "      <th>0</th>\n",
              "      <td>How can I prevent SQL injection in PHP?</td>\n",
              "      <td>how can i prevent sql injection in php</td>\n",
              "      <td>sql</td>\n",
              "      <td>['php', 'mysql', 'sql', 'security', 'sql-injec...</td>\n",
              "    </tr>\n",
              "    <tr>\n",
              "      <th>1</th>\n",
              "      <td>When to use single quotes, double quotes, and ...</td>\n",
              "      <td>when to use single quotes double quotes and ba...</td>\n",
              "      <td>sql</td>\n",
              "      <td>['mysql', 'sql', 'quotes']</td>\n",
              "    </tr>\n",
              "    <tr>\n",
              "      <th>2</th>\n",
              "      <td>SQL injection that gets around mysql_real_esca...</td>\n",
              "      <td>sql injection that gets around mysql_real_esca...</td>\n",
              "      <td>sql</td>\n",
              "      <td>['php', 'mysql', 'sql', 'security', 'sql-injec...</td>\n",
              "    </tr>\n",
              "    <tr>\n",
              "      <th>3</th>\n",
              "      <td>SQL select only rows with max value on a colum...</td>\n",
              "      <td>sql select only rows with max value on a colum...</td>\n",
              "      <td>sql</td>\n",
              "      <td>['mysql', 'sql', 'aggregate-functions', 'great...</td>\n",
              "    </tr>\n",
              "    <tr>\n",
              "      <th>4</th>\n",
              "      <td>Simulating group_concat MySQL function in Micr...</td>\n",
              "      <td>simulating group_concat mysql function in micr...</td>\n",
              "      <td>sql</td>\n",
              "      <td>['sql', 'sql-server', 'sql-server-2005', 'stri...</td>\n",
              "    </tr>\n",
              "  </tbody>\n",
              "</table>\n",
              "</div>"
            ],
            "text/plain": [
              "                                              Topics  ...                                                Tag\n",
              "0            How can I prevent SQL injection in PHP?  ...  ['php', 'mysql', 'sql', 'security', 'sql-injec...\n",
              "1  When to use single quotes, double quotes, and ...  ...                         ['mysql', 'sql', 'quotes']\n",
              "2  SQL injection that gets around mysql_real_esca...  ...  ['php', 'mysql', 'sql', 'security', 'sql-injec...\n",
              "3  SQL select only rows with max value on a colum...  ...  ['mysql', 'sql', 'aggregate-functions', 'great...\n",
              "4  Simulating group_concat MySQL function in Micr...  ...  ['sql', 'sql-server', 'sql-server-2005', 'stri...\n",
              "\n",
              "[5 rows x 4 columns]"
            ]
          },
          "metadata": {
            "tags": []
          },
          "execution_count": 25
        }
      ]
    },
    {
      "cell_type": "code",
      "metadata": {
        "id": "B7S9i0gr7uGF"
      },
      "source": [
        "df['Categories']=df['Categories'].str.replace(\", \",\",\")\n",
        "df['Tags']=df['Tags'].str.replace(\", \",\",\")\n",
        "df['Categories']=df['Categories'].str.lower()"
      ],
      "execution_count": null,
      "outputs": []
    },
    {
      "cell_type": "code",
      "metadata": {
        "id": "JcdtJqVm7uGK"
      },
      "source": [
        "dic={}\n",
        "for i in df['Categories']:\n",
        "    if i not in dic.keys():\n",
        "        dic[i]=1\n",
        "    else:\n",
        "        dic[i]+=1\n",
        "dic"
      ],
      "execution_count": null,
      "outputs": []
    },
    {
      "cell_type": "code",
      "metadata": {
        "id": "N21xXOe17uGQ"
      },
      "source": [
        "df['Tags']=df['Tags'].str.replace(\" \",\"\")"
      ],
      "execution_count": null,
      "outputs": []
    },
    {
      "cell_type": "code",
      "metadata": {
        "id": "XGKj_3IW7uGV"
      },
      "source": [
        "df=df[df['Tags'] != 'português']\n",
        "df=df[df['Tags'] != 'español']\n",
        "df=df[df['Tags'] != 'français']"
      ],
      "execution_count": null,
      "outputs": []
    },
    {
      "cell_type": "code",
      "metadata": {
        "id": "kl1SfUEs7uGd"
      },
      "source": [
        "dic={}\n",
        "for i in df['Tags']:\n",
        "    if i not in dic.keys():\n",
        "        dic[i]=1\n",
        "dic"
      ],
      "execution_count": null,
      "outputs": []
    },
    {
      "cell_type": "code",
      "metadata": {
        "id": "ZnD_13C_7uGh"
      },
      "source": [
        "# 'get help c++ ': 1,\n",
        "#  'get help amazon alexa ': 1,\n",
        "#  'get help build chatbots with python '\n",
        "# 'community random ': 1,\n",
        "#  'get help r category ': 1,\n",
        "#  'community suggestions; feature and course requests ': 1,\n",
        "#  'community international ': 1,\n",
        "# 'community getting started '\n",
        "for index,row in df.iterrows():\n",
        "    if row['Categories']=='get help c++ ':\n",
        "        row['Categories']='get help,c++'\n",
        "    if row['Categories']=='get help amazon alexa ':\n",
        "        row['Categories']='get help,amazon alexa'\n",
        "    if row['Categories']=='get help build chatbots with python ':\n",
        "        row['Categories']='get help,build chatbots with python'\n",
        "    if row['Categories']=='community random ':\n",
        "        row['Categories']='community,random'\n",
        "    if row['Categories']=='get help r category ':\n",
        "        row['Categories']='get help,r,category'\n",
        "    if row['Categories']=='community suggestions; feature and course requests ':\n",
        "        row['Categories']='community suggestions,feature and course requests'\n",
        "    if row['Categories']=='community international ':\n",
        "        row['Categories']='community,international'\n",
        "    if row['Categories']=='community getting started ':\n",
        "        row['Categories']='community,getting started'"
      ],
      "execution_count": null,
      "outputs": []
    },
    {
      "cell_type": "code",
      "metadata": {
        "id": "MeqI_hCJ7uGq"
      },
      "source": [
        "df['Categories']=df['Categories'].str.replace(\" \",\"_\")"
      ],
      "execution_count": null,
      "outputs": []
    },
    {
      "cell_type": "code",
      "metadata": {
        "id": "-_1ni3Y_7uGu"
      },
      "source": [
        "df['Categories']=df['Categories'].str.replace(\",\",\" \")\n",
        "df['Tags']=df['Tags'].str.replace(\",\",\" \")\n",
        "df.head(50)"
      ],
      "execution_count": null,
      "outputs": []
    },
    {
      "cell_type": "code",
      "metadata": {
        "id": "PlPNqrFh7uGz"
      },
      "source": [
        "df['labels']=df['Categories']+\" \"+df['Tags']\n",
        "df.head(50)"
      ],
      "execution_count": null,
      "outputs": []
    },
    {
      "cell_type": "code",
      "metadata": {
        "id": "YVAtzTFf7uG4"
      },
      "source": [
        "df2=df[['text','labels']]"
      ],
      "execution_count": null,
      "outputs": []
    },
    {
      "cell_type": "code",
      "metadata": {
        "id": "VbmOY1Ge7uG9"
      },
      "source": [
        "df2.to_csv('codechef.csv',index=False)"
      ],
      "execution_count": null,
      "outputs": []
    },
    {
      "cell_type": "code",
      "metadata": {
        "id": "qg8Jl6cw_txo"
      },
      "source": [
        "df2.head(30)"
      ],
      "execution_count": null,
      "outputs": []
    },
    {
      "cell_type": "code",
      "metadata": {
        "id": "ogFuDZ0p7uHC"
      },
      "source": [
        "df['labels']=[i.split() for i in df['labels']]"
      ],
      "execution_count": null,
      "outputs": []
    },
    {
      "cell_type": "code",
      "metadata": {
        "id": "A8VgqabqL5Fd",
        "colab": {
          "base_uri": "https://localhost:8080/",
          "height": 206
        },
        "outputId": "c86e9039-b629-4c4f-c10f-64f6a3750bc1"
      },
      "source": [
        "df=df[[\"text\",\"Tag\"]]\n",
        "df.head()"
      ],
      "execution_count": null,
      "outputs": [
        {
          "output_type": "execute_result",
          "data": {
            "text/html": [
              "<div>\n",
              "<style scoped>\n",
              "    .dataframe tbody tr th:only-of-type {\n",
              "        vertical-align: middle;\n",
              "    }\n",
              "\n",
              "    .dataframe tbody tr th {\n",
              "        vertical-align: top;\n",
              "    }\n",
              "\n",
              "    .dataframe thead th {\n",
              "        text-align: right;\n",
              "    }\n",
              "</style>\n",
              "<table border=\"1\" class=\"dataframe\">\n",
              "  <thead>\n",
              "    <tr style=\"text-align: right;\">\n",
              "      <th></th>\n",
              "      <th>text</th>\n",
              "      <th>Tag</th>\n",
              "    </tr>\n",
              "  </thead>\n",
              "  <tbody>\n",
              "    <tr>\n",
              "      <th>0</th>\n",
              "      <td>how can i prevent sql injection in php</td>\n",
              "      <td>['php', 'mysql', 'sql', 'security', 'sql-injec...</td>\n",
              "    </tr>\n",
              "    <tr>\n",
              "      <th>1</th>\n",
              "      <td>when to use single quotes double quotes and ba...</td>\n",
              "      <td>['mysql', 'sql', 'quotes']</td>\n",
              "    </tr>\n",
              "    <tr>\n",
              "      <th>2</th>\n",
              "      <td>sql injection that gets around mysqlrealescape...</td>\n",
              "      <td>['php', 'mysql', 'sql', 'security', 'sql-injec...</td>\n",
              "    </tr>\n",
              "    <tr>\n",
              "      <th>3</th>\n",
              "      <td>sql select only rows with max value on a colum...</td>\n",
              "      <td>['mysql', 'sql', 'aggregate-functions', 'great...</td>\n",
              "    </tr>\n",
              "    <tr>\n",
              "      <th>4</th>\n",
              "      <td>simulating groupconcat mysql function in micro...</td>\n",
              "      <td>['sql', 'sql-server', 'sql-server-2005', 'stri...</td>\n",
              "    </tr>\n",
              "  </tbody>\n",
              "</table>\n",
              "</div>"
            ],
            "text/plain": [
              "                                                text                                                Tag\n",
              "0             how can i prevent sql injection in php  ['php', 'mysql', 'sql', 'security', 'sql-injec...\n",
              "1  when to use single quotes double quotes and ba...                         ['mysql', 'sql', 'quotes']\n",
              "2  sql injection that gets around mysqlrealescape...  ['php', 'mysql', 'sql', 'security', 'sql-injec...\n",
              "3  sql select only rows with max value on a colum...  ['mysql', 'sql', 'aggregate-functions', 'great...\n",
              "4  simulating groupconcat mysql function in micro...  ['sql', 'sql-server', 'sql-server-2005', 'stri..."
            ]
          },
          "metadata": {
            "tags": []
          },
          "execution_count": 54
        }
      ]
    },
    {
      "cell_type": "code",
      "metadata": {
        "id": "Lg2lMgjqN9pR",
        "colab": {
          "base_uri": "https://localhost:8080/",
          "height": 783
        },
        "outputId": "70e00154-a8ea-4a9c-f91d-bf8ef9cda76c"
      },
      "source": [
        "df['Tags']=df['Tag'].str.strip(\"['\")\n",
        "df['Tags']=df['Tags'].str.strip(\"']\")\n",
        "df['Tags']=df['Tags'].str.replace(\"', '\",\" \")\n",
        "df.head()"
      ],
      "execution_count": null,
      "outputs": [
        {
          "output_type": "stream",
          "text": [
            "/usr/local/lib/python3.6/dist-packages/ipykernel_launcher.py:1: SettingWithCopyWarning: \n",
            "A value is trying to be set on a copy of a slice from a DataFrame.\n",
            "Try using .loc[row_indexer,col_indexer] = value instead\n",
            "\n",
            "See the caveats in the documentation: https://pandas.pydata.org/pandas-docs/stable/user_guide/indexing.html#returning-a-view-versus-a-copy\n",
            "  \"\"\"Entry point for launching an IPython kernel.\n",
            "/usr/local/lib/python3.6/dist-packages/ipykernel_launcher.py:2: SettingWithCopyWarning: \n",
            "A value is trying to be set on a copy of a slice from a DataFrame.\n",
            "Try using .loc[row_indexer,col_indexer] = value instead\n",
            "\n",
            "See the caveats in the documentation: https://pandas.pydata.org/pandas-docs/stable/user_guide/indexing.html#returning-a-view-versus-a-copy\n",
            "  \n",
            "/usr/local/lib/python3.6/dist-packages/ipykernel_launcher.py:3: SettingWithCopyWarning: \n",
            "A value is trying to be set on a copy of a slice from a DataFrame.\n",
            "Try using .loc[row_indexer,col_indexer] = value instead\n",
            "\n",
            "See the caveats in the documentation: https://pandas.pydata.org/pandas-docs/stable/user_guide/indexing.html#returning-a-view-versus-a-copy\n",
            "  This is separate from the ipykernel package so we can avoid doing imports until\n"
          ],
          "name": "stderr"
        },
        {
          "output_type": "execute_result",
          "data": {
            "text/html": [
              "<div>\n",
              "<style scoped>\n",
              "    .dataframe tbody tr th:only-of-type {\n",
              "        vertical-align: middle;\n",
              "    }\n",
              "\n",
              "    .dataframe tbody tr th {\n",
              "        vertical-align: top;\n",
              "    }\n",
              "\n",
              "    .dataframe thead th {\n",
              "        text-align: right;\n",
              "    }\n",
              "</style>\n",
              "<table border=\"1\" class=\"dataframe\">\n",
              "  <thead>\n",
              "    <tr style=\"text-align: right;\">\n",
              "      <th></th>\n",
              "      <th>Topics</th>\n",
              "      <th>text</th>\n",
              "      <th>Category</th>\n",
              "      <th>Tag</th>\n",
              "      <th>Tags</th>\n",
              "    </tr>\n",
              "  </thead>\n",
              "  <tbody>\n",
              "    <tr>\n",
              "      <th>0</th>\n",
              "      <td>How can I prevent SQL injection in PHP?</td>\n",
              "      <td>how can i prevent sql injection in php</td>\n",
              "      <td>sql</td>\n",
              "      <td>['php', 'mysql', 'sql', 'security', 'sql-injec...</td>\n",
              "      <td>php mysql sql security sql-injection</td>\n",
              "    </tr>\n",
              "    <tr>\n",
              "      <th>1</th>\n",
              "      <td>When to use single quotes, double quotes, and ...</td>\n",
              "      <td>when to use single quotes double quotes and ba...</td>\n",
              "      <td>sql</td>\n",
              "      <td>['mysql', 'sql', 'quotes']</td>\n",
              "      <td>mysql sql quotes</td>\n",
              "    </tr>\n",
              "    <tr>\n",
              "      <th>2</th>\n",
              "      <td>SQL injection that gets around mysql_real_esca...</td>\n",
              "      <td>sql injection that gets around mysql_real_esca...</td>\n",
              "      <td>sql</td>\n",
              "      <td>['php', 'mysql', 'sql', 'security', 'sql-injec...</td>\n",
              "      <td>php mysql sql security sql-injection</td>\n",
              "    </tr>\n",
              "    <tr>\n",
              "      <th>3</th>\n",
              "      <td>SQL select only rows with max value on a colum...</td>\n",
              "      <td>sql select only rows with max value on a colum...</td>\n",
              "      <td>sql</td>\n",
              "      <td>['mysql', 'sql', 'aggregate-functions', 'great...</td>\n",
              "      <td>mysql sql aggregate-functions greatest-n-per-g...</td>\n",
              "    </tr>\n",
              "    <tr>\n",
              "      <th>4</th>\n",
              "      <td>Simulating group_concat MySQL function in Micr...</td>\n",
              "      <td>simulating group_concat mysql function in micr...</td>\n",
              "      <td>sql</td>\n",
              "      <td>['sql', 'sql-server', 'sql-server-2005', 'stri...</td>\n",
              "      <td>sql sql-server sql-server-2005 string-aggregation</td>\n",
              "    </tr>\n",
              "  </tbody>\n",
              "</table>\n",
              "</div>"
            ],
            "text/plain": [
              "                                              Topics  ...                                               Tags\n",
              "0            How can I prevent SQL injection in PHP?  ...               php mysql sql security sql-injection\n",
              "1  When to use single quotes, double quotes, and ...  ...                                   mysql sql quotes\n",
              "2  SQL injection that gets around mysql_real_esca...  ...               php mysql sql security sql-injection\n",
              "3  SQL select only rows with max value on a colum...  ...  mysql sql aggregate-functions greatest-n-per-g...\n",
              "4  Simulating group_concat MySQL function in Micr...  ...  sql sql-server sql-server-2005 string-aggregation\n",
              "\n",
              "[5 rows x 5 columns]"
            ]
          },
          "metadata": {
            "tags": []
          },
          "execution_count": 26
        }
      ]
    },
    {
      "cell_type": "code",
      "metadata": {
        "id": "VTpFDExyNSBz"
      },
      "source": [
        "df = df.dropna(axis=0, subset=['Tag'])"
      ],
      "execution_count": null,
      "outputs": []
    },
    {
      "cell_type": "code",
      "metadata": {
        "id": "5DgI-YlYO5au",
        "colab": {
          "base_uri": "https://localhost:8080/",
          "height": 206
        },
        "outputId": "d3a4d39f-48a2-45ad-93cb-9f483c28c2f1"
      },
      "source": [
        "df2=df[['text','Tags']]\n",
        "df2.head()"
      ],
      "execution_count": null,
      "outputs": [
        {
          "output_type": "execute_result",
          "data": {
            "text/html": [
              "<div>\n",
              "<style scoped>\n",
              "    .dataframe tbody tr th:only-of-type {\n",
              "        vertical-align: middle;\n",
              "    }\n",
              "\n",
              "    .dataframe tbody tr th {\n",
              "        vertical-align: top;\n",
              "    }\n",
              "\n",
              "    .dataframe thead th {\n",
              "        text-align: right;\n",
              "    }\n",
              "</style>\n",
              "<table border=\"1\" class=\"dataframe\">\n",
              "  <thead>\n",
              "    <tr style=\"text-align: right;\">\n",
              "      <th></th>\n",
              "      <th>text</th>\n",
              "      <th>Tags</th>\n",
              "    </tr>\n",
              "  </thead>\n",
              "  <tbody>\n",
              "    <tr>\n",
              "      <th>0</th>\n",
              "      <td>how can i prevent sql injection in php</td>\n",
              "      <td>php mysql sql security sql-injection</td>\n",
              "    </tr>\n",
              "    <tr>\n",
              "      <th>1</th>\n",
              "      <td>when to use single quotes double quotes and ba...</td>\n",
              "      <td>mysql sql quotes</td>\n",
              "    </tr>\n",
              "    <tr>\n",
              "      <th>2</th>\n",
              "      <td>sql injection that gets around mysqlrealescape...</td>\n",
              "      <td>php mysql sql security sql-injection</td>\n",
              "    </tr>\n",
              "    <tr>\n",
              "      <th>3</th>\n",
              "      <td>sql select only rows with max value on a colum...</td>\n",
              "      <td>mysql sql aggregate-functions greatest-n-per-g...</td>\n",
              "    </tr>\n",
              "    <tr>\n",
              "      <th>4</th>\n",
              "      <td>simulating groupconcat mysql function in micro...</td>\n",
              "      <td>sql sql-server sql-server-2005 string-aggregation</td>\n",
              "    </tr>\n",
              "  </tbody>\n",
              "</table>\n",
              "</div>"
            ],
            "text/plain": [
              "                                                text                                               Tags\n",
              "0             how can i prevent sql injection in php               php mysql sql security sql-injection\n",
              "1  when to use single quotes double quotes and ba...                                   mysql sql quotes\n",
              "2  sql injection that gets around mysqlrealescape...               php mysql sql security sql-injection\n",
              "3  sql select only rows with max value on a colum...  mysql sql aggregate-functions greatest-n-per-g...\n",
              "4  simulating groupconcat mysql function in micro...  sql sql-server sql-server-2005 string-aggregation"
            ]
          },
          "metadata": {
            "tags": []
          },
          "execution_count": 65
        }
      ]
    },
    {
      "cell_type": "code",
      "metadata": {
        "id": "IHaf8N_7PAIT"
      },
      "source": [
        "df.to_csv(\"/content/drive/My Drive/stacko1.csv\",index=False)"
      ],
      "execution_count": null,
      "outputs": []
    },
    {
      "cell_type": "code",
      "metadata": {
        "id": "viS3zb7wQ0hq",
        "colab": {
          "base_uri": "https://localhost:8080/",
          "height": 328
        },
        "outputId": "6601b423-1692-4c55-b233-e2f327fe1856"
      },
      "source": [
        "# df=df[['id','Topics','text','Tags']]\n",
        "# df['id']=df.index\n",
        "df=df[[\"Topics\",\"text\",\"Category\",\"Tags\"]]\n",
        "df.head()"
      ],
      "execution_count": null,
      "outputs": [
        {
          "output_type": "execute_result",
          "data": {
            "text/html": [
              "<div>\n",
              "<style scoped>\n",
              "    .dataframe tbody tr th:only-of-type {\n",
              "        vertical-align: middle;\n",
              "    }\n",
              "\n",
              "    .dataframe tbody tr th {\n",
              "        vertical-align: top;\n",
              "    }\n",
              "\n",
              "    .dataframe thead th {\n",
              "        text-align: right;\n",
              "    }\n",
              "</style>\n",
              "<table border=\"1\" class=\"dataframe\">\n",
              "  <thead>\n",
              "    <tr style=\"text-align: right;\">\n",
              "      <th></th>\n",
              "      <th>Topics</th>\n",
              "      <th>text</th>\n",
              "      <th>Category</th>\n",
              "      <th>Tags</th>\n",
              "    </tr>\n",
              "  </thead>\n",
              "  <tbody>\n",
              "    <tr>\n",
              "      <th>0</th>\n",
              "      <td>How can I prevent SQL injection in PHP?</td>\n",
              "      <td>how can i prevent sql injection in php</td>\n",
              "      <td>sql</td>\n",
              "      <td>php mysql sql security sql-injection</td>\n",
              "    </tr>\n",
              "    <tr>\n",
              "      <th>1</th>\n",
              "      <td>When to use single quotes, double quotes, and ...</td>\n",
              "      <td>when to use single quotes double quotes and ba...</td>\n",
              "      <td>sql</td>\n",
              "      <td>mysql sql quotes</td>\n",
              "    </tr>\n",
              "    <tr>\n",
              "      <th>2</th>\n",
              "      <td>SQL injection that gets around mysql_real_esca...</td>\n",
              "      <td>sql injection that gets around mysql_real_esca...</td>\n",
              "      <td>sql</td>\n",
              "      <td>php mysql sql security sql-injection</td>\n",
              "    </tr>\n",
              "    <tr>\n",
              "      <th>3</th>\n",
              "      <td>SQL select only rows with max value on a colum...</td>\n",
              "      <td>sql select only rows with max value on a colum...</td>\n",
              "      <td>sql</td>\n",
              "      <td>mysql sql aggregate-functions greatest-n-per-g...</td>\n",
              "    </tr>\n",
              "    <tr>\n",
              "      <th>4</th>\n",
              "      <td>Simulating group_concat MySQL function in Micr...</td>\n",
              "      <td>simulating group_concat mysql function in micr...</td>\n",
              "      <td>sql</td>\n",
              "      <td>sql sql-server sql-server-2005 string-aggregation</td>\n",
              "    </tr>\n",
              "  </tbody>\n",
              "</table>\n",
              "</div>"
            ],
            "text/plain": [
              "                                              Topics  ...                                               Tags\n",
              "0            How can I prevent SQL injection in PHP?  ...               php mysql sql security sql-injection\n",
              "1  When to use single quotes, double quotes, and ...  ...                                   mysql sql quotes\n",
              "2  SQL injection that gets around mysql_real_esca...  ...               php mysql sql security sql-injection\n",
              "3  SQL select only rows with max value on a colum...  ...  mysql sql aggregate-functions greatest-n-per-g...\n",
              "4  Simulating group_concat MySQL function in Micr...  ...  sql sql-server sql-server-2005 string-aggregation\n",
              "\n",
              "[5 rows x 4 columns]"
            ]
          },
          "metadata": {
            "tags": []
          },
          "execution_count": 31
        }
      ]
    },
    {
      "cell_type": "code",
      "metadata": {
        "id": "1dzYcYomU1at"
      },
      "source": [
        "# Export output\n",
        "\n",
        "df.to_csv('versa.csv', index=False)"
      ],
      "execution_count": null,
      "outputs": []
    },
    {
      "cell_type": "code",
      "metadata": {
        "id": "brb7NfTLQ09Z",
        "colab": {
          "base_uri": "https://localhost:8080/",
          "height": 90
        },
        "outputId": "8704a30a-19e2-412b-e1c6-9d10087dc106"
      },
      "source": [
        "df['Tags']=df['Tags'].str.strip(\"[\")\n",
        "df['Tags']=df['Tags'].str.strip(\"]\")\n",
        "df.isnull().sum()"
      ],
      "execution_count": null,
      "outputs": [
        {
          "output_type": "execute_result",
          "data": {
            "text/plain": [
              "text    0\n",
              "Tag     0\n",
              "Tags    0\n",
              "dtype: int64"
            ]
          },
          "metadata": {
            "tags": []
          },
          "execution_count": 69
        }
      ]
    }
  ]
}